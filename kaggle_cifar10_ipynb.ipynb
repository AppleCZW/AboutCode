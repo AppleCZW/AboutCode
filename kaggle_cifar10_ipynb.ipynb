{
  "cells": [
    {
      "cell_type": "markdown",
      "metadata": {
        "id": "view-in-github",
        "colab_type": "text"
      },
      "source": [
        "<a href=\"https://colab.research.google.com/github/AppleCZW/AboutCode/blob/computer_version_test/kaggle_cifar10_ipynb.ipynb\" target=\"_parent\"><img src=\"https://colab.research.google.com/assets/colab-badge.svg\" alt=\"Open In Colab\"/></a>"
      ]
    },
    {
      "cell_type": "markdown",
      "id": "9fd449cd",
      "metadata": {
        "id": "9fd449cd"
      },
      "source": [
        "The following additional libraries are needed to run this\n",
        "notebook. Note that running on Colab is experimental, please report a Github\n",
        "issue if you have any problem."
      ]
    },
    {
      "cell_type": "code",
      "execution_count": null,
      "id": "023b43e5",
      "metadata": {
        "id": "023b43e5",
        "outputId": "3a52d11d-2ec3-4dc8-c144-27350330af3c",
        "colab": {
          "base_uri": "https://localhost:8080/"
        }
      },
      "outputs": [
        {
          "output_type": "stream",
          "name": "stdout",
          "text": [
            "Looking in indexes: https://pypi.org/simple, https://us-python.pkg.dev/colab-wheels/public/simple/\n",
            "Collecting git+https://github.com/d2l-ai/d2l-zh@release\n",
            "  Cloning https://github.com/d2l-ai/d2l-zh (to revision release) to /tmp/pip-req-build-z18pcugd\n",
            "  Running command git clone --filter=blob:none --quiet https://github.com/d2l-ai/d2l-zh /tmp/pip-req-build-z18pcugd\n",
            "  Running command git checkout -b release --track origin/release\n",
            "  Switched to a new branch 'release'\n",
            "  Branch 'release' set up to track remote branch 'release' from 'origin'.\n",
            "  Resolved https://github.com/d2l-ai/d2l-zh to commit b29df2a66b5569984330b936409045eb2c13ef29\n",
            "  Running command git submodule update --init --recursive -q\n",
            "  Preparing metadata (setup.py) ... \u001b[?25l\u001b[?25hdone\n",
            "Collecting jupyter==1.0.0\n",
            "  Downloading jupyter-1.0.0-py2.py3-none-any.whl (2.7 kB)\n",
            "Collecting numpy==1.21.5\n",
            "  Downloading numpy-1.21.5-cp38-cp38-manylinux_2_12_x86_64.manylinux2010_x86_64.whl (15.7 MB)\n",
            "\u001b[2K     \u001b[90m━━━━━━━━━━━━━━━━━━━━━━━━━━━━━━━━━━━━━━━━\u001b[0m \u001b[32m15.7/15.7 MB\u001b[0m \u001b[31m9.6 MB/s\u001b[0m eta \u001b[36m0:00:00\u001b[0m\n",
            "\u001b[?25hCollecting matplotlib==3.5.1\n",
            "  Downloading matplotlib-3.5.1-cp38-cp38-manylinux_2_5_x86_64.manylinux1_x86_64.whl (11.3 MB)\n",
            "\u001b[2K     \u001b[90m━━━━━━━━━━━━━━━━━━━━━━━━━━━━━━━━━━━━━━━━\u001b[0m \u001b[32m11.3/11.3 MB\u001b[0m \u001b[31m13.5 MB/s\u001b[0m eta \u001b[36m0:00:00\u001b[0m\n",
            "\u001b[?25hRequirement already satisfied: requests==2.25.1 in /usr/local/lib/python3.8/dist-packages (from d2l==2.0.0) (2.25.1)\n",
            "Collecting pandas==1.2.4\n",
            "  Downloading pandas-1.2.4-cp38-cp38-manylinux1_x86_64.whl (9.7 MB)\n",
            "\u001b[2K     \u001b[90m━━━━━━━━━━━━━━━━━━━━━━━━━━━━━━━━━━━━━━━━\u001b[0m \u001b[32m9.7/9.7 MB\u001b[0m \u001b[31m17.8 MB/s\u001b[0m eta \u001b[36m0:00:00\u001b[0m\n",
            "\u001b[?25hRequirement already satisfied: nbconvert in /usr/local/lib/python3.8/dist-packages (from jupyter==1.0.0->d2l==2.0.0) (5.6.1)\n",
            "Requirement already satisfied: ipywidgets in /usr/local/lib/python3.8/dist-packages (from jupyter==1.0.0->d2l==2.0.0) (7.7.1)\n",
            "Collecting qtconsole\n",
            "  Downloading qtconsole-5.4.0-py3-none-any.whl (121 kB)\n",
            "\u001b[2K     \u001b[90m━━━━━━━━━━━━━━━━━━━━━━━━━━━━━━━━━━━━━━\u001b[0m \u001b[32m121.0/121.0 KB\u001b[0m \u001b[31m16.3 MB/s\u001b[0m eta \u001b[36m0:00:00\u001b[0m\n",
            "\u001b[?25hRequirement already satisfied: jupyter-console in /usr/local/lib/python3.8/dist-packages (from jupyter==1.0.0->d2l==2.0.0) (6.1.0)\n",
            "Requirement already satisfied: notebook in /usr/local/lib/python3.8/dist-packages (from jupyter==1.0.0->d2l==2.0.0) (6.3.0)\n",
            "Requirement already satisfied: ipykernel in /usr/local/lib/python3.8/dist-packages (from jupyter==1.0.0->d2l==2.0.0) (5.3.4)\n",
            "Collecting fonttools>=4.22.0\n",
            "  Downloading fonttools-4.38.0-py3-none-any.whl (965 kB)\n",
            "\u001b[2K     \u001b[90m━━━━━━━━━━━━━━━━━━━━━━━━━━━━━━━━━━━━━━\u001b[0m \u001b[32m965.4/965.4 KB\u001b[0m \u001b[31m17.4 MB/s\u001b[0m eta \u001b[36m0:00:00\u001b[0m\n",
            "\u001b[?25hRequirement already satisfied: pyparsing>=2.2.1 in /usr/local/lib/python3.8/dist-packages (from matplotlib==3.5.1->d2l==2.0.0) (3.0.9)\n",
            "Requirement already satisfied: kiwisolver>=1.0.1 in /usr/local/lib/python3.8/dist-packages (from matplotlib==3.5.1->d2l==2.0.0) (1.4.4)\n",
            "Requirement already satisfied: pillow>=6.2.0 in /usr/local/lib/python3.8/dist-packages (from matplotlib==3.5.1->d2l==2.0.0) (7.1.2)\n",
            "Requirement already satisfied: cycler>=0.10 in /usr/local/lib/python3.8/dist-packages (from matplotlib==3.5.1->d2l==2.0.0) (0.11.0)\n",
            "Requirement already satisfied: python-dateutil>=2.7 in /usr/local/lib/python3.8/dist-packages (from matplotlib==3.5.1->d2l==2.0.0) (2.8.2)\n",
            "Requirement already satisfied: packaging>=20.0 in /usr/local/lib/python3.8/dist-packages (from matplotlib==3.5.1->d2l==2.0.0) (23.0)\n",
            "Requirement already satisfied: pytz>=2017.3 in /usr/local/lib/python3.8/dist-packages (from pandas==1.2.4->d2l==2.0.0) (2022.7.1)\n",
            "Requirement already satisfied: idna<3,>=2.5 in /usr/local/lib/python3.8/dist-packages (from requests==2.25.1->d2l==2.0.0) (2.10)\n",
            "Requirement already satisfied: chardet<5,>=3.0.2 in /usr/local/lib/python3.8/dist-packages (from requests==2.25.1->d2l==2.0.0) (4.0.0)\n",
            "Requirement already satisfied: urllib3<1.27,>=1.21.1 in /usr/local/lib/python3.8/dist-packages (from requests==2.25.1->d2l==2.0.0) (1.24.3)\n",
            "Requirement already satisfied: certifi>=2017.4.17 in /usr/local/lib/python3.8/dist-packages (from requests==2.25.1->d2l==2.0.0) (2022.12.7)\n",
            "Requirement already satisfied: six>=1.5 in /usr/local/lib/python3.8/dist-packages (from python-dateutil>=2.7->matplotlib==3.5.1->d2l==2.0.0) (1.15.0)\n",
            "Requirement already satisfied: tornado>=4.2 in /usr/local/lib/python3.8/dist-packages (from ipykernel->jupyter==1.0.0->d2l==2.0.0) (6.2)\n",
            "Requirement already satisfied: jupyter-client in /usr/local/lib/python3.8/dist-packages (from ipykernel->jupyter==1.0.0->d2l==2.0.0) (6.1.12)\n",
            "Requirement already satisfied: ipython>=5.0.0 in /usr/local/lib/python3.8/dist-packages (from ipykernel->jupyter==1.0.0->d2l==2.0.0) (7.9.0)\n",
            "Requirement already satisfied: traitlets>=4.1.0 in /usr/local/lib/python3.8/dist-packages (from ipykernel->jupyter==1.0.0->d2l==2.0.0) (5.7.1)\n",
            "Requirement already satisfied: ipython-genutils~=0.2.0 in /usr/local/lib/python3.8/dist-packages (from ipywidgets->jupyter==1.0.0->d2l==2.0.0) (0.2.0)\n",
            "Requirement already satisfied: jupyterlab-widgets>=1.0.0 in /usr/local/lib/python3.8/dist-packages (from ipywidgets->jupyter==1.0.0->d2l==2.0.0) (3.0.5)\n",
            "Requirement already satisfied: widgetsnbextension~=3.6.0 in /usr/local/lib/python3.8/dist-packages (from ipywidgets->jupyter==1.0.0->d2l==2.0.0) (3.6.2)\n",
            "Requirement already satisfied: prompt-toolkit!=3.0.0,!=3.0.1,<3.1.0,>=2.0.0 in /usr/local/lib/python3.8/dist-packages (from jupyter-console->jupyter==1.0.0->d2l==2.0.0) (2.0.10)\n",
            "Requirement already satisfied: pygments in /usr/local/lib/python3.8/dist-packages (from jupyter-console->jupyter==1.0.0->d2l==2.0.0) (2.6.1)\n",
            "Requirement already satisfied: jupyter-core in /usr/local/lib/python3.8/dist-packages (from nbconvert->jupyter==1.0.0->d2l==2.0.0) (5.2.0)\n",
            "Requirement already satisfied: jinja2>=2.4 in /usr/local/lib/python3.8/dist-packages (from nbconvert->jupyter==1.0.0->d2l==2.0.0) (2.11.3)\n",
            "Requirement already satisfied: bleach in /usr/local/lib/python3.8/dist-packages (from nbconvert->jupyter==1.0.0->d2l==2.0.0) (6.0.0)\n",
            "Requirement already satisfied: nbformat>=4.4 in /usr/local/lib/python3.8/dist-packages (from nbconvert->jupyter==1.0.0->d2l==2.0.0) (5.7.3)\n",
            "Requirement already satisfied: entrypoints>=0.2.2 in /usr/local/lib/python3.8/dist-packages (from nbconvert->jupyter==1.0.0->d2l==2.0.0) (0.4)\n",
            "Requirement already satisfied: pandocfilters>=1.4.1 in /usr/local/lib/python3.8/dist-packages (from nbconvert->jupyter==1.0.0->d2l==2.0.0) (1.5.0)\n",
            "Requirement already satisfied: testpath in /usr/local/lib/python3.8/dist-packages (from nbconvert->jupyter==1.0.0->d2l==2.0.0) (0.6.0)\n",
            "Requirement already satisfied: defusedxml in /usr/local/lib/python3.8/dist-packages (from nbconvert->jupyter==1.0.0->d2l==2.0.0) (0.7.1)\n",
            "Requirement already satisfied: mistune<2,>=0.8.1 in /usr/local/lib/python3.8/dist-packages (from nbconvert->jupyter==1.0.0->d2l==2.0.0) (0.8.4)\n",
            "Requirement already satisfied: pyzmq>=17 in /usr/local/lib/python3.8/dist-packages (from notebook->jupyter==1.0.0->d2l==2.0.0) (23.2.1)\n",
            "Requirement already satisfied: terminado>=0.8.3 in /usr/local/lib/python3.8/dist-packages (from notebook->jupyter==1.0.0->d2l==2.0.0) (0.13.3)\n",
            "Requirement already satisfied: Send2Trash>=1.5.0 in /usr/local/lib/python3.8/dist-packages (from notebook->jupyter==1.0.0->d2l==2.0.0) (1.8.0)\n",
            "Requirement already satisfied: prometheus-client in /usr/local/lib/python3.8/dist-packages (from notebook->jupyter==1.0.0->d2l==2.0.0) (0.16.0)\n",
            "Requirement already satisfied: argon2-cffi in /usr/local/lib/python3.8/dist-packages (from notebook->jupyter==1.0.0->d2l==2.0.0) (21.3.0)\n",
            "Collecting qtpy>=2.0.1\n",
            "  Downloading QtPy-2.3.0-py3-none-any.whl (83 kB)\n",
            "\u001b[2K     \u001b[90m━━━━━━━━━━━━━━━━━━━━━━━━━━━━━━━━━━━━━━━━\u001b[0m \u001b[32m83.6/83.6 KB\u001b[0m \u001b[31m12.1 MB/s\u001b[0m eta \u001b[36m0:00:00\u001b[0m\n",
            "\u001b[?25hCollecting jedi>=0.10\n",
            "  Downloading jedi-0.18.2-py2.py3-none-any.whl (1.6 MB)\n",
            "\u001b[2K     \u001b[90m━━━━━━━━━━━━━━━━━━━━━━━━━━━━━━━━━━━━━━━━\u001b[0m \u001b[32m1.6/1.6 MB\u001b[0m \u001b[31m18.5 MB/s\u001b[0m eta \u001b[36m0:00:00\u001b[0m\n",
            "\u001b[?25hRequirement already satisfied: setuptools>=18.5 in /usr/local/lib/python3.8/dist-packages (from ipython>=5.0.0->ipykernel->jupyter==1.0.0->d2l==2.0.0) (57.4.0)\n",
            "Requirement already satisfied: pickleshare in /usr/local/lib/python3.8/dist-packages (from ipython>=5.0.0->ipykernel->jupyter==1.0.0->d2l==2.0.0) (0.7.5)\n",
            "Requirement already satisfied: pexpect in /usr/local/lib/python3.8/dist-packages (from ipython>=5.0.0->ipykernel->jupyter==1.0.0->d2l==2.0.0) (4.8.0)\n",
            "Requirement already satisfied: decorator in /usr/local/lib/python3.8/dist-packages (from ipython>=5.0.0->ipykernel->jupyter==1.0.0->d2l==2.0.0) (4.4.2)\n",
            "Requirement already satisfied: backcall in /usr/local/lib/python3.8/dist-packages (from ipython>=5.0.0->ipykernel->jupyter==1.0.0->d2l==2.0.0) (0.2.0)\n",
            "Requirement already satisfied: MarkupSafe>=0.23 in /usr/local/lib/python3.8/dist-packages (from jinja2>=2.4->nbconvert->jupyter==1.0.0->d2l==2.0.0) (2.0.1)\n",
            "Requirement already satisfied: platformdirs>=2.5 in /usr/local/lib/python3.8/dist-packages (from jupyter-core->nbconvert->jupyter==1.0.0->d2l==2.0.0) (3.0.0)\n",
            "Requirement already satisfied: jsonschema>=2.6 in /usr/local/lib/python3.8/dist-packages (from nbformat>=4.4->nbconvert->jupyter==1.0.0->d2l==2.0.0) (4.3.3)\n",
            "Requirement already satisfied: fastjsonschema in /usr/local/lib/python3.8/dist-packages (from nbformat>=4.4->nbconvert->jupyter==1.0.0->d2l==2.0.0) (2.16.2)\n",
            "Requirement already satisfied: wcwidth in /usr/local/lib/python3.8/dist-packages (from prompt-toolkit!=3.0.0,!=3.0.1,<3.1.0,>=2.0.0->jupyter-console->jupyter==1.0.0->d2l==2.0.0) (0.2.6)\n",
            "Requirement already satisfied: ptyprocess in /usr/local/lib/python3.8/dist-packages (from terminado>=0.8.3->notebook->jupyter==1.0.0->d2l==2.0.0) (0.7.0)\n",
            "Requirement already satisfied: argon2-cffi-bindings in /usr/local/lib/python3.8/dist-packages (from argon2-cffi->notebook->jupyter==1.0.0->d2l==2.0.0) (21.2.0)\n",
            "Requirement already satisfied: webencodings in /usr/local/lib/python3.8/dist-packages (from bleach->nbconvert->jupyter==1.0.0->d2l==2.0.0) (0.5.1)\n",
            "Requirement already satisfied: parso<0.9.0,>=0.8.0 in /usr/local/lib/python3.8/dist-packages (from jedi>=0.10->ipython>=5.0.0->ipykernel->jupyter==1.0.0->d2l==2.0.0) (0.8.3)\n",
            "Requirement already satisfied: attrs>=17.4.0 in /usr/local/lib/python3.8/dist-packages (from jsonschema>=2.6->nbformat>=4.4->nbconvert->jupyter==1.0.0->d2l==2.0.0) (22.2.0)\n",
            "Requirement already satisfied: importlib-resources>=1.4.0 in /usr/local/lib/python3.8/dist-packages (from jsonschema>=2.6->nbformat>=4.4->nbconvert->jupyter==1.0.0->d2l==2.0.0) (5.10.2)\n",
            "Requirement already satisfied: pyrsistent!=0.17.0,!=0.17.1,!=0.17.2,>=0.14.0 in /usr/local/lib/python3.8/dist-packages (from jsonschema>=2.6->nbformat>=4.4->nbconvert->jupyter==1.0.0->d2l==2.0.0) (0.19.3)\n",
            "Requirement already satisfied: cffi>=1.0.1 in /usr/local/lib/python3.8/dist-packages (from argon2-cffi-bindings->argon2-cffi->notebook->jupyter==1.0.0->d2l==2.0.0) (1.15.1)\n",
            "Requirement already satisfied: pycparser in /usr/local/lib/python3.8/dist-packages (from cffi>=1.0.1->argon2-cffi-bindings->argon2-cffi->notebook->jupyter==1.0.0->d2l==2.0.0) (2.21)\n",
            "Requirement already satisfied: zipp>=3.1.0 in /usr/local/lib/python3.8/dist-packages (from importlib-resources>=1.4.0->jsonschema>=2.6->nbformat>=4.4->nbconvert->jupyter==1.0.0->d2l==2.0.0) (3.13.0)\n",
            "Building wheels for collected packages: d2l\n",
            "  Building wheel for d2l (setup.py) ... \u001b[?25l\u001b[?25hdone\n",
            "  Created wheel for d2l: filename=d2l-2.0.0-py3-none-any.whl size=111040 sha256=471277400b04873b2e2a4b34c96d1cac2e605a880ab9fc7185cdee384514e2bd\n",
            "  Stored in directory: /tmp/pip-ephem-wheel-cache-4ei5jrz9/wheels/e6/b3/a5/6d60cbd92e523d2ed8e65c7b444ae1850196d21db7c3694d62\n",
            "Successfully built d2l\n",
            "Installing collected packages: qtpy, numpy, jedi, fonttools, pandas, matplotlib, qtconsole, jupyter, d2l\n",
            "  Attempting uninstall: numpy\n",
            "    Found existing installation: numpy 1.21.6\n",
            "    Uninstalling numpy-1.21.6:\n",
            "      Successfully uninstalled numpy-1.21.6\n",
            "  Attempting uninstall: pandas\n",
            "    Found existing installation: pandas 1.3.5\n",
            "    Uninstalling pandas-1.3.5:\n",
            "      Successfully uninstalled pandas-1.3.5\n",
            "  Attempting uninstall: matplotlib\n",
            "    Found existing installation: matplotlib 3.2.2\n",
            "    Uninstalling matplotlib-3.2.2:\n",
            "      Successfully uninstalled matplotlib-3.2.2\n",
            "\u001b[31mERROR: pip's dependency resolver does not currently take into account all the packages that are installed. This behaviour is the source of the following dependency conflicts.\n",
            "xarray 2022.12.0 requires pandas>=1.3, but you have pandas 1.2.4 which is incompatible.\u001b[0m\u001b[31m\n",
            "\u001b[0mSuccessfully installed d2l-2.0.0 fonttools-4.38.0 jedi-0.18.2 jupyter-1.0.0 matplotlib-3.5.1 numpy-1.21.5 pandas-1.2.4 qtconsole-5.4.0 qtpy-2.3.0\n"
          ]
        }
      ],
      "source": [
        "!pip install git+https://github.com/d2l-ai/d2l-zh@release  # installing d2l\n"
      ]
    },
    {
      "cell_type": "markdown",
      "id": "90ef67aa",
      "metadata": {
        "origin_pos": 0,
        "id": "90ef67aa"
      },
      "source": [
        "# 实战 Kaggle 比赛：图像分类 (CIFAR-10)\n",
        ":label:`sec_kaggle_cifar10`\n",
        "\n",
        "之前几节中，我们一直在使用深度学习框架的高级API直接获取张量格式的图像数据集。\n",
        "但是在实践中，图像数据集通常以图像文件的形式出现。\n",
        "本节将从原始图像文件开始，然后逐步组织、读取并将它们转换为张量格式。\n",
        "\n",
        "我们在 :numref:`sec_image_augmentation`中对CIFAR-10数据集做了一个实验。CIFAR-10是计算机视觉领域中的一个重要的数据集。\n",
        "本节将运用我们在前几节中学到的知识来参加CIFAR-10图像分类问题的Kaggle竞赛，(**比赛的网址是https://www.kaggle.com/c/cifar-10**)。\n",
        "\n",
        " :numref:`fig_kaggle_cifar10`显示了竞赛网站页面上的信息。\n",
        "为了能提交结果，首先需要注册一个Kaggle账户。\n",
        "\n",
        "![CIFAR-10 图像分类竞赛页面上的信息。竞赛用的数据集可通过点击“Data”选项卡获取。](https://github.com/d2l-ai/d2l-zh-pytorch-colab/blob/master/img/kaggle-cifar10.png?raw=1)\n",
        ":width:`600px`\n",
        ":label:`fig_kaggle_cifar10`\n",
        "\n",
        "首先，导入竞赛所需的包和模块。\n"
      ]
    },
    {
      "cell_type": "code",
      "source": [
        "!pip install matplotlib_inline"
      ],
      "metadata": {
        "id": "7fcVuZncSTGZ",
        "outputId": "41678aa3-07bf-4999-fa0e-47160505cb9b",
        "colab": {
          "base_uri": "https://localhost:8080/"
        }
      },
      "id": "7fcVuZncSTGZ",
      "execution_count": null,
      "outputs": [
        {
          "output_type": "stream",
          "name": "stdout",
          "text": [
            "Looking in indexes: https://pypi.org/simple, https://us-python.pkg.dev/colab-wheels/public/simple/\n",
            "Collecting matplotlib_inline\n",
            "  Downloading matplotlib_inline-0.1.6-py3-none-any.whl (9.4 kB)\n",
            "Requirement already satisfied: traitlets in /usr/local/lib/python3.8/dist-packages (from matplotlib_inline) (5.7.1)\n",
            "Installing collected packages: matplotlib_inline\n",
            "Successfully installed matplotlib_inline-0.1.6\n"
          ]
        }
      ]
    },
    {
      "cell_type": "code",
      "source": [
        "!pip install matplotlib==3.0.0"
      ],
      "metadata": {
        "id": "v-5L7bGkTx8R",
        "outputId": "0bcc765f-7bf4-44dd-c869-b05308518f22",
        "colab": {
          "base_uri": "https://localhost:8080/"
        }
      },
      "id": "v-5L7bGkTx8R",
      "execution_count": null,
      "outputs": [
        {
          "output_type": "stream",
          "name": "stdout",
          "text": [
            "Looking in indexes: https://pypi.org/simple, https://us-python.pkg.dev/colab-wheels/public/simple/\n",
            "Collecting matplotlib==3.0.0\n",
            "  Downloading matplotlib-3.0.0.tar.gz (36.3 MB)\n",
            "\u001b[2K     \u001b[90m━━━━━━━━━━━━━━━━━━━━━━━━━━━━━━━━━━━━━━━━\u001b[0m \u001b[32m36.3/36.3 MB\u001b[0m \u001b[31m20.6 MB/s\u001b[0m eta \u001b[36m0:00:00\u001b[0m\n",
            "\u001b[?25h  Preparing metadata (setup.py) ... \u001b[?25l\u001b[?25hdone\n",
            "Requirement already satisfied: numpy>=1.10.0 in /usr/local/lib/python3.8/dist-packages (from matplotlib==3.0.0) (1.21.5)\n",
            "Requirement already satisfied: cycler>=0.10 in /usr/local/lib/python3.8/dist-packages (from matplotlib==3.0.0) (0.11.0)\n",
            "Requirement already satisfied: kiwisolver>=1.0.1 in /usr/local/lib/python3.8/dist-packages (from matplotlib==3.0.0) (1.4.4)\n",
            "Requirement already satisfied: pyparsing!=2.0.4,!=2.1.2,!=2.1.6,>=2.0.1 in /usr/local/lib/python3.8/dist-packages (from matplotlib==3.0.0) (3.0.9)\n",
            "Requirement already satisfied: python-dateutil>=2.1 in /usr/local/lib/python3.8/dist-packages (from matplotlib==3.0.0) (2.8.2)\n",
            "Requirement already satisfied: six>=1.5 in /usr/local/lib/python3.8/dist-packages (from python-dateutil>=2.1->matplotlib==3.0.0) (1.15.0)\n",
            "Building wheels for collected packages: matplotlib\n",
            "  Building wheel for matplotlib (setup.py) ... \u001b[?25l\u001b[?25hdone\n",
            "  Created wheel for matplotlib: filename=matplotlib-3.0.0-cp38-cp38-linux_x86_64.whl size=11844591 sha256=8d7dd2866b09437a2c22f86d9e364793e5ba751802b93e09193bfc454259afe7\n",
            "  Stored in directory: /root/.cache/pip/wheels/a9/1e/ed/3e09c67472517aa5d81f8c15de6c81162d249ebe442e4f3007\n",
            "Successfully built matplotlib\n",
            "Installing collected packages: matplotlib\n",
            "  Attempting uninstall: matplotlib\n",
            "    Found existing installation: matplotlib 3.5.1\n",
            "    Uninstalling matplotlib-3.5.1:\n",
            "      Successfully uninstalled matplotlib-3.5.1\n",
            "\u001b[31mERROR: pip's dependency resolver does not currently take into account all the packages that are installed. This behaviour is the source of the following dependency conflicts.\n",
            "yellowbrick 1.5 requires matplotlib!=3.0.0,>=2.0.2, but you have matplotlib 3.0.0 which is incompatible.\n",
            "scikit-image 0.18.3 requires matplotlib!=3.0.0,>=2.0.0, but you have matplotlib 3.0.0 which is incompatible.\n",
            "plotnine 0.8.0 requires matplotlib>=3.1.1, but you have matplotlib 3.0.0 which is incompatible.\n",
            "mizani 0.7.3 requires matplotlib>=3.1.1, but you have matplotlib 3.0.0 which is incompatible.\n",
            "d2l 2.0.0 requires matplotlib==3.5.1, but you have matplotlib 3.0.0 which is incompatible.\u001b[0m\u001b[31m\n",
            "\u001b[0mSuccessfully installed matplotlib-3.0.0\n"
          ]
        }
      ]
    },
    {
      "cell_type": "code",
      "execution_count": null,
      "id": "1a942a6d",
      "metadata": {
        "execution": {
          "iopub.execute_input": "2022-12-07T16:28:21.538579Z",
          "iopub.status.busy": "2022-12-07T16:28:21.537924Z",
          "iopub.status.idle": "2022-12-07T16:28:25.817556Z",
          "shell.execute_reply": "2022-12-07T16:28:25.816777Z"
        },
        "origin_pos": 2,
        "tab": [
          "pytorch"
        ],
        "id": "1a942a6d"
      },
      "outputs": [],
      "source": [
        "import collections\n",
        "import math\n",
        "import os\n",
        "import shutil\n",
        "import pandas as pd\n",
        "import torch\n",
        "import torchvision\n",
        "from torch import nn\n",
        "from d2l import torch as d2l"
      ]
    },
    {
      "cell_type": "markdown",
      "id": "d467e311",
      "metadata": {
        "origin_pos": 4,
        "id": "d467e311"
      },
      "source": [
        "## 获取并组织数据集\n",
        "\n",
        "比赛数据集分为训练集和测试集，其中训练集包含50000张、测试集包含300000张图像。\n",
        "在测试集中，10000张图像将被用于评估，而剩下的290000张图像将不会被进行评估，包含它们只是为了防止手动标记测试集并提交标记结果。\n",
        "两个数据集中的图像都是png格式，高度和宽度均为32像素并有三个颜色通道（RGB）。\n",
        "这些图片共涵盖10个类别：飞机、汽车、鸟类、猫、鹿、狗、青蛙、马、船和卡车。\n",
        " :numref:`fig_kaggle_cifar10`的左上角显示了数据集中飞机、汽车和鸟类的一些图像。\n",
        "\n",
        "### 下载数据集\n",
        "\n",
        "登录Kaggle后，我们可以点击 :numref:`fig_kaggle_cifar10`中显示的CIFAR-10图像分类竞赛网页上的“Data”选项卡，然后单击“Download All”按钮下载数据集。\n",
        "在`../data`中解压下载的文件并在其中解压缩`train.7z`和`test.7z`后，在以下路径中可以找到整个数据集：\n",
        "\n",
        "* `../data/cifar-10/train/[1-50000].png`\n",
        "* `../data/cifar-10/test/[1-300000].png`\n",
        "* `../data/cifar-10/trainLabels.csv`\n",
        "* `../data/cifar-10/sampleSubmission.csv`\n",
        "\n",
        "`train`和`test`文件夹分别包含训练和测试图像，`trainLabels.csv`含有训练图像的标签，\n",
        "`sample_submission.csv`是提交文件的范例。\n",
        "\n",
        "为了便于入门，[**我们提供包含前1000个训练图像和5个随机测试图像的数据集的小规模样本**]。\n",
        "要使用Kaggle竞赛的完整数据集，需要将以下`demo`变量设置为`False`。\n"
      ]
    },
    {
      "cell_type": "code",
      "execution_count": null,
      "id": "172f6be8",
      "metadata": {
        "execution": {
          "iopub.execute_input": "2022-12-07T16:28:25.821531Z",
          "iopub.status.busy": "2022-12-07T16:28:25.820807Z",
          "iopub.status.idle": "2022-12-07T16:28:26.344672Z",
          "shell.execute_reply": "2022-12-07T16:28:26.343935Z"
        },
        "origin_pos": 5,
        "tab": [
          "pytorch"
        ],
        "id": "172f6be8"
      },
      "outputs": [],
      "source": [
        "\n",
        "d2l.DATA_HUB['cifar10_tiny'] = (d2l.DATA_URL + 'kaggle_cifar10_tiny.zip',\n",
        "                                '2068874e4b9a9f0fb07ebe0ad2b29754449ccacd')\n",
        "\n",
        "# 如果使用完整的Kaggle竞赛的数据集，设置demo为False\n",
        "demo = True\n",
        "\n",
        "if demo:\n",
        "    data_dir = d2l.download_extract('cifar10_tiny')\n",
        "else:\n",
        "    data_dir = '../data/cifar-10/'"
      ]
    },
    {
      "cell_type": "markdown",
      "id": "2b6e49f8",
      "metadata": {
        "origin_pos": 6,
        "id": "2b6e49f8"
      },
      "source": [
        "### [**整理数据集**]\n",
        "\n",
        "我们需要整理数据集来训练和测试模型。\n",
        "首先，我们用以下函数读取CSV文件中的标签，它返回一个字典，该字典将文件名中不带扩展名的部分映射到其标签。\n"
      ]
    },
    {
      "cell_type": "code",
      "execution_count": null,
      "id": "9b0f0f80",
      "metadata": {
        "execution": {
          "iopub.execute_input": "2022-12-07T16:28:26.348382Z",
          "iopub.status.busy": "2022-12-07T16:28:26.347629Z",
          "iopub.status.idle": "2022-12-07T16:28:26.355399Z",
          "shell.execute_reply": "2022-12-07T16:28:26.354612Z"
        },
        "origin_pos": 7,
        "tab": [
          "pytorch"
        ],
        "id": "9b0f0f80",
        "outputId": "1c1bec71-1f09-445f-d23e-43552560c169",
        "colab": {
          "base_uri": "https://localhost:8080/"
        }
      },
      "outputs": [
        {
          "output_type": "stream",
          "name": "stdout",
          "text": [
            "# 训练样本 : 1000\n",
            "# 类别 : 10\n"
          ]
        }
      ],
      "source": [
        "\n",
        "def read_csv_labels(fname):\n",
        "    \"\"\"读取fname来给标签字典返回一个文件名\"\"\"\n",
        "    with open(fname, 'r') as f:\n",
        "        # 跳过文件头行(列名)\n",
        "        lines = f.readlines()[1:]\n",
        "    tokens = [l.rstrip().split(',') for l in lines]\n",
        "    return dict(((name, label) for name, label in tokens))\n",
        "\n",
        "labels = read_csv_labels(os.path.join(data_dir, 'trainLabels.csv'))\n",
        "print('# 训练样本 :', len(labels))\n",
        "print('# 类别 :', len(set(labels.values())))"
      ]
    },
    {
      "cell_type": "markdown",
      "id": "26467088",
      "metadata": {
        "origin_pos": 8,
        "id": "26467088"
      },
      "source": [
        "接下来，我们定义`reorg_train_valid`函数来[**将验证集从原始的训练集中拆分出来**]。\n",
        "此函数中的参数`valid_ratio`是验证集中的样本数与原始训练集中的样本数之比。\n",
        "更具体地说，令$n$等于样本最少的类别中的图像数量，而$r$是比率。\n",
        "验证集将为每个类别拆分出$\\max(\\lfloor nr\\rfloor,1)$张图像。\n",
        "让我们以`valid_ratio=0.1`为例，由于原始的训练集有50000张图像，因此`train_valid_test/train`路径中将有45000张图像用于训练，而剩下5000张图像将作为路径`train_valid_test/valid`中的验证集。\n",
        "组织数据集后，同类别的图像将被放置在同一文件夹下。\n"
      ]
    },
    {
      "cell_type": "code",
      "execution_count": null,
      "id": "65f7d909",
      "metadata": {
        "execution": {
          "iopub.execute_input": "2022-12-07T16:28:26.358606Z",
          "iopub.status.busy": "2022-12-07T16:28:26.358203Z",
          "iopub.status.idle": "2022-12-07T16:28:26.365459Z",
          "shell.execute_reply": "2022-12-07T16:28:26.364762Z"
        },
        "origin_pos": 9,
        "tab": [
          "pytorch"
        ],
        "id": "65f7d909"
      },
      "outputs": [],
      "source": [
        "\n",
        "def copyfile(filename, target_dir):\n",
        "    \"\"\"将文件复制到目标目录\"\"\"\n",
        "    os.makedirs(target_dir, exist_ok=True)\n",
        "    shutil.copy(filename, target_dir)\n",
        "\n",
        "\n",
        "def reorg_train_valid(data_dir, labels, valid_ratio):\n",
        "    \"\"\"将验证集从原始的训练集中拆分出来\"\"\"\n",
        "    # 训练数据集中样本最少的类别中的样本数\n",
        "    n = collections.Counter(labels.values()).most_common()[-1][1]\n",
        "    # 验证集中每个类别的样本数\n",
        "    n_valid_per_label = max(1, math.floor(n * valid_ratio))\n",
        "    label_count = {}\n",
        "    for train_file in os.listdir(os.path.join(data_dir, 'train')):\n",
        "        label = labels[train_file.split('.')[0]]\n",
        "        fname = os.path.join(data_dir, 'train', train_file)\n",
        "        copyfile(fname, os.path.join(data_dir, 'train_valid_test',\n",
        "                                     'train_valid', label))\n",
        "        if label not in label_count or label_count[label] < n_valid_per_label:\n",
        "            copyfile(fname, os.path.join(data_dir, 'train_valid_test',\n",
        "                                         'valid', label))\n",
        "            label_count[label] = label_count.get(label, 0) + 1\n",
        "        else:\n",
        "            copyfile(fname, os.path.join(data_dir, 'train_valid_test',\n",
        "                                         'train', label))\n",
        "    return n_valid_per_label"
      ]
    },
    {
      "cell_type": "markdown",
      "id": "5ea0c2a7",
      "metadata": {
        "origin_pos": 10,
        "id": "5ea0c2a7"
      },
      "source": [
        "下面的`reorg_test`函数用来[**在预测期间整理测试集，以方便读取**]。\n"
      ]
    },
    {
      "cell_type": "code",
      "execution_count": null,
      "id": "c488da32",
      "metadata": {
        "execution": {
          "iopub.execute_input": "2022-12-07T16:28:26.368594Z",
          "iopub.status.busy": "2022-12-07T16:28:26.368199Z",
          "iopub.status.idle": "2022-12-07T16:28:26.372590Z",
          "shell.execute_reply": "2022-12-07T16:28:26.371867Z"
        },
        "origin_pos": 11,
        "tab": [
          "pytorch"
        ],
        "id": "c488da32"
      },
      "outputs": [],
      "source": [
        "\n",
        "def reorg_test(data_dir):\n",
        "    \"\"\"在预测期间整理测试集，以方便读取\"\"\"\n",
        "    for test_file in os.listdir(os.path.join(data_dir, 'test')):\n",
        "        copyfile(os.path.join(data_dir, 'test', test_file),\n",
        "                 os.path.join(data_dir, 'train_valid_test', 'test',\n",
        "                              'unknown'))"
      ]
    },
    {
      "cell_type": "markdown",
      "id": "13cfe857",
      "metadata": {
        "origin_pos": 12,
        "id": "13cfe857"
      },
      "source": [
        "最后，我们使用一个函数来[**调用前面定义的函数**]`read_csv_labels`、`reorg_train_valid`和`reorg_test`。\n"
      ]
    },
    {
      "cell_type": "code",
      "execution_count": null,
      "id": "2b6a05f0",
      "metadata": {
        "execution": {
          "iopub.execute_input": "2022-12-07T16:28:26.375662Z",
          "iopub.status.busy": "2022-12-07T16:28:26.375273Z",
          "iopub.status.idle": "2022-12-07T16:28:26.379277Z",
          "shell.execute_reply": "2022-12-07T16:28:26.378527Z"
        },
        "origin_pos": 13,
        "tab": [
          "pytorch"
        ],
        "id": "2b6a05f0"
      },
      "outputs": [],
      "source": [
        "def reorg_cifar10_data(data_dir, valid_ratio):\n",
        "    labels = read_csv_labels(os.path.join(data_dir, 'trainLabels.csv'))\n",
        "    reorg_train_valid(data_dir, labels, valid_ratio)\n",
        "    reorg_test(data_dir)"
      ]
    },
    {
      "cell_type": "markdown",
      "id": "941c937d",
      "metadata": {
        "origin_pos": 14,
        "id": "941c937d"
      },
      "source": [
        "在这里，我们只将样本数据集的批量大小设置为32。\n",
        "在实际训练和测试中，应该使用Kaggle竞赛的完整数据集，并将`batch_size`设置为更大的整数，例如128。\n",
        "我们将10％的训练样本作为调整超参数的验证集。\n"
      ]
    },
    {
      "cell_type": "code",
      "execution_count": null,
      "id": "4b857d8f",
      "metadata": {
        "execution": {
          "iopub.execute_input": "2022-12-07T16:28:26.382306Z",
          "iopub.status.busy": "2022-12-07T16:28:26.381910Z",
          "iopub.status.idle": "2022-12-07T16:28:26.592571Z",
          "shell.execute_reply": "2022-12-07T16:28:26.591816Z"
        },
        "origin_pos": 15,
        "tab": [
          "pytorch"
        ],
        "id": "4b857d8f"
      },
      "outputs": [],
      "source": [
        "batch_size = 32 if demo else 128\n",
        "valid_ratio = 0.1\n",
        "reorg_cifar10_data(data_dir, valid_ratio)"
      ]
    },
    {
      "cell_type": "markdown",
      "id": "5eb3d886",
      "metadata": {
        "origin_pos": 16,
        "id": "5eb3d886"
      },
      "source": [
        "## [**图像增广**]\n",
        "\n",
        "我们使用图像增广来解决过拟合的问题。例如在训练中，我们可以随机水平翻转图像。\n",
        "我们还可以对彩色图像的三个RGB通道执行标准化。\n",
        "下面，我们列出了其中一些可以调整的操作。\n"
      ]
    },
    {
      "cell_type": "code",
      "execution_count": null,
      "id": "41be3595",
      "metadata": {
        "execution": {
          "iopub.execute_input": "2022-12-07T16:28:26.595905Z",
          "iopub.status.busy": "2022-12-07T16:28:26.595493Z",
          "iopub.status.idle": "2022-12-07T16:28:26.600687Z",
          "shell.execute_reply": "2022-12-07T16:28:26.599992Z"
        },
        "origin_pos": 18,
        "tab": [
          "pytorch"
        ],
        "id": "41be3595"
      },
      "outputs": [],
      "source": [
        "transform_train = torchvision.transforms.Compose([\n",
        "    # 在高度和宽度上将图像放大到40像素的正方形\n",
        "    torchvision.transforms.Resize(40),\n",
        "    # 随机裁剪出一个高度和宽度均为40像素的正方形图像，\n",
        "    # 生成一个面积为原始图像面积0.64～1倍的小正方形，\n",
        "    # 然后将其缩放为高度和宽度均为32像素的正方形\n",
        "    torchvision.transforms.RandomResizedCrop(32, scale=(0.64, 1.0),\n",
        "                                                   ratio=(1.0, 1.0)),\n",
        "    torchvision.transforms.RandomHorizontalFlip(),\n",
        "    torchvision.transforms.ToTensor(),\n",
        "    # 标准化图像的每个通道\n",
        "    torchvision.transforms.Normalize([0.4914, 0.4822, 0.4465],\n",
        "                                     [0.2023, 0.1994, 0.2010])])"
      ]
    },
    {
      "cell_type": "markdown",
      "id": "bf67e53d",
      "metadata": {
        "origin_pos": 20,
        "id": "bf67e53d"
      },
      "source": [
        "在测试期间，我们只对图像执行标准化，以消除评估结果中的随机性。\n"
      ]
    },
    {
      "cell_type": "code",
      "execution_count": null,
      "id": "4ce1e413",
      "metadata": {
        "execution": {
          "iopub.execute_input": "2022-12-07T16:28:26.603799Z",
          "iopub.status.busy": "2022-12-07T16:28:26.603403Z",
          "iopub.status.idle": "2022-12-07T16:28:26.607386Z",
          "shell.execute_reply": "2022-12-07T16:28:26.606691Z"
        },
        "origin_pos": 22,
        "tab": [
          "pytorch"
        ],
        "id": "4ce1e413"
      },
      "outputs": [],
      "source": [
        "transform_test = torchvision.transforms.Compose([\n",
        "    torchvision.transforms.ToTensor(),\n",
        "    torchvision.transforms.Normalize([0.4914, 0.4822, 0.4465],\n",
        "                                     [0.2023, 0.1994, 0.2010])])"
      ]
    },
    {
      "cell_type": "markdown",
      "id": "4cf4de04",
      "metadata": {
        "origin_pos": 24,
        "id": "4cf4de04"
      },
      "source": [
        "## 读取数据集\n",
        "\n",
        "接下来，我们[**读取由原始图像组成的数据集**]，每个样本都包括一张图片和一个标签。\n"
      ]
    },
    {
      "cell_type": "code",
      "execution_count": null,
      "id": "9fad2b0e",
      "metadata": {
        "execution": {
          "iopub.execute_input": "2022-12-07T16:28:26.610379Z",
          "iopub.status.busy": "2022-12-07T16:28:26.609987Z",
          "iopub.status.idle": "2022-12-07T16:28:26.621565Z",
          "shell.execute_reply": "2022-12-07T16:28:26.620826Z"
        },
        "origin_pos": 26,
        "tab": [
          "pytorch"
        ],
        "id": "9fad2b0e"
      },
      "outputs": [],
      "source": [
        "train_ds, train_valid_ds = [torchvision.datasets.ImageFolder(\n",
        "    os.path.join(data_dir, 'train_valid_test', folder),\n",
        "    transform=transform_train) for folder in ['train', 'train_valid']]\n",
        "\n",
        "valid_ds, test_ds = [torchvision.datasets.ImageFolder(\n",
        "    os.path.join(data_dir, 'train_valid_test', folder),\n",
        "    transform=transform_test) for folder in ['valid', 'test']]"
      ]
    },
    {
      "cell_type": "markdown",
      "id": "c4a2b5b7",
      "metadata": {
        "origin_pos": 28,
        "id": "c4a2b5b7"
      },
      "source": [
        "在训练期间，我们需要[**指定上面定义的所有图像增广操作**]。\n",
        "当验证集在超参数调整过程中用于模型评估时，不应引入图像增广的随机性。\n",
        "在最终预测之前，我们根据训练集和验证集组合而成的训练模型进行训练，以充分利用所有标记的数据。\n"
      ]
    },
    {
      "cell_type": "code",
      "execution_count": null,
      "id": "78c9ccc4",
      "metadata": {
        "execution": {
          "iopub.execute_input": "2022-12-07T16:28:26.624769Z",
          "iopub.status.busy": "2022-12-07T16:28:26.624350Z",
          "iopub.status.idle": "2022-12-07T16:28:26.629428Z",
          "shell.execute_reply": "2022-12-07T16:28:26.628695Z"
        },
        "origin_pos": 30,
        "tab": [
          "pytorch"
        ],
        "id": "78c9ccc4"
      },
      "outputs": [],
      "source": [
        "train_iter, train_valid_iter = [torch.utils.data.DataLoader(\n",
        "    dataset, batch_size, shuffle=True, drop_last=True)\n",
        "    for dataset in (train_ds, train_valid_ds)]\n",
        "\n",
        "valid_iter = torch.utils.data.DataLoader(valid_ds, batch_size, shuffle=False,\n",
        "                                         drop_last=True)\n",
        "\n",
        "test_iter = torch.utils.data.DataLoader(test_ds, batch_size, shuffle=False,\n",
        "                                        drop_last=False)"
      ]
    },
    {
      "cell_type": "markdown",
      "id": "8116a7ca",
      "metadata": {
        "origin_pos": 32,
        "id": "8116a7ca"
      },
      "source": [
        "## 定义[**模型**]\n"
      ]
    },
    {
      "cell_type": "markdown",
      "id": "eefb976b",
      "metadata": {
        "origin_pos": 38,
        "tab": [
          "pytorch"
        ],
        "id": "eefb976b"
      },
      "source": [
        "我们定义了 :numref:`sec_resnet`中描述的Resnet-18模型。\n"
      ]
    },
    {
      "cell_type": "code",
      "execution_count": null,
      "id": "5eb7d639",
      "metadata": {
        "execution": {
          "iopub.execute_input": "2022-12-07T16:28:26.632529Z",
          "iopub.status.busy": "2022-12-07T16:28:26.632121Z",
          "iopub.status.idle": "2022-12-07T16:28:26.636196Z",
          "shell.execute_reply": "2022-12-07T16:28:26.635470Z"
        },
        "origin_pos": 41,
        "tab": [
          "pytorch"
        ],
        "id": "5eb7d639"
      },
      "outputs": [],
      "source": [
        "def get_net():\n",
        "    num_classes = 10\n",
        "    net = d2l.resnet18(num_classes, 3)\n",
        "    return net\n",
        "\n",
        "loss = nn.CrossEntropyLoss(reduction=\"none\")"
      ]
    },
    {
      "cell_type": "markdown",
      "id": "d01c23f0",
      "metadata": {
        "origin_pos": 43,
        "id": "d01c23f0"
      },
      "source": [
        "## 定义[**训练函数**]\n",
        "\n",
        "我们将根据模型在验证集上的表现来选择模型并调整超参数。\n",
        "下面我们定义了模型训练函数`train`。\n"
      ]
    },
    {
      "cell_type": "code",
      "execution_count": null,
      "id": "08035b17",
      "metadata": {
        "execution": {
          "iopub.execute_input": "2022-12-07T16:28:26.639283Z",
          "iopub.status.busy": "2022-12-07T16:28:26.638874Z",
          "iopub.status.idle": "2022-12-07T16:28:26.648249Z",
          "shell.execute_reply": "2022-12-07T16:28:26.647558Z"
        },
        "origin_pos": 45,
        "tab": [
          "pytorch"
        ],
        "id": "08035b17"
      },
      "outputs": [],
      "source": [
        "def train(net, train_iter, valid_iter, num_epochs, lr, wd, devices, lr_period,\n",
        "          lr_decay):\n",
        "    trainer = torch.optim.SGD(net.parameters(), lr=lr, momentum=0.9,\n",
        "                              weight_decay=wd)\n",
        "    scheduler = torch.optim.lr_scheduler.StepLR(trainer, lr_period, lr_decay)\n",
        "    num_batches, timer = len(train_iter), d2l.Timer()\n",
        "    legend = ['train loss', 'train acc']\n",
        "    if valid_iter is not None:\n",
        "        legend.append('valid acc')\n",
        "    animator = d2l.Animator(xlabel='epoch', xlim=[1, num_epochs],\n",
        "                            legend=legend)\n",
        "    net = nn.DataParallel(net, device_ids=devices).to(devices[0])\n",
        "    for epoch in range(num_epochs):\n",
        "        net.train()\n",
        "        metric = d2l.Accumulator(3)\n",
        "        for i, (features, labels) in enumerate(train_iter):\n",
        "            timer.start()\n",
        "            l, acc = d2l.train_batch_ch13(net, features, labels,\n",
        "                                          loss, trainer, devices)\n",
        "            metric.add(l, acc, labels.shape[0])\n",
        "            timer.stop()\n",
        "            if (i + 1) % (num_batches // 5) == 0 or i == num_batches - 1:\n",
        "                animator.add(epoch + (i + 1) / num_batches,\n",
        "                             (metric[0] / metric[2], metric[1] / metric[2],\n",
        "                              None))\n",
        "        if valid_iter is not None:\n",
        "            valid_acc = d2l.evaluate_accuracy_gpu(net, valid_iter)\n",
        "            animator.add(epoch + 1, (None, None, valid_acc))\n",
        "        scheduler.step()\n",
        "    measures = (f'train loss {metric[0] / metric[2]:.3f}, '\n",
        "                f'train acc {metric[1] / metric[2]:.3f}')\n",
        "    if valid_iter is not None:\n",
        "        measures += f', valid acc {valid_acc:.3f}'\n",
        "    print(measures + f'\\n{metric[2] * num_epochs / timer.sum():.1f}'\n",
        "          f' examples/sec on {str(devices)}')"
      ]
    },
    {
      "cell_type": "markdown",
      "id": "65fff7f0",
      "metadata": {
        "origin_pos": 47,
        "id": "65fff7f0"
      },
      "source": [
        "## [**训练和验证模型**]\n",
        "\n",
        "现在，我们可以训练和验证模型了，而以下所有超参数都可以调整。\n",
        "例如，我们可以增加周期的数量。当`lr_period`和`lr_decay`分别设置为4和0.9时，优化算法的学习速率将在每4个周期乘以0.9。\n",
        "为便于演示，我们在这里只训练20个周期。\n"
      ]
    },
    {
      "cell_type": "code",
      "execution_count": null,
      "id": "c11b21dc",
      "metadata": {
        "execution": {
          "iopub.execute_input": "2022-12-07T16:28:26.651319Z",
          "iopub.status.busy": "2022-12-07T16:28:26.650914Z",
          "iopub.status.idle": "2022-12-07T16:29:22.027165Z",
          "shell.execute_reply": "2022-12-07T16:29:22.026298Z"
        },
        "origin_pos": 49,
        "tab": [
          "pytorch"
        ],
        "id": "c11b21dc",
        "outputId": "d70e14b5-b828-4bc3-8e8e-f90a66fb8437",
        "colab": {
          "base_uri": "https://localhost:8080/",
          "height": 262
        }
      },
      "outputs": [
        {
          "output_type": "display_data",
          "data": {
            "text/plain": [
              "<Figure size 252x180 with 1 Axes>"
            ],
            "image/svg+xml": "<?xml version=\"1.0\" encoding=\"utf-8\" standalone=\"no\"?>\n<!DOCTYPE svg PUBLIC \"-//W3C//DTD SVG 1.1//EN\"\n  \"http://www.w3.org/Graphics/SVG/1.1/DTD/svg11.dtd\">\n<!-- Created with matplotlib (https://matplotlib.org/) -->\n<svg height=\"180.65625pt\" version=\"1.1\" viewBox=\"0 0 238.965625 180.65625\" width=\"238.965625pt\" xmlns=\"http://www.w3.org/2000/svg\" xmlns:xlink=\"http://www.w3.org/1999/xlink\">\n <defs>\n  <style type=\"text/css\">\n*{stroke-linecap:butt;stroke-linejoin:round;}\n  </style>\n </defs>\n <g id=\"figure_1\">\n  <g id=\"patch_1\">\n   <path d=\"M 0 180.65625 \nL 238.965625 180.65625 \nL 238.965625 0 \nL 0 0 \nz\n\" style=\"fill:none;\"/>\n  </g>\n  <g id=\"axes_1\">\n   <g id=\"patch_2\">\n    <path d=\"M 30.103125 143.1 \nL 225.403125 143.1 \nL 225.403125 7.2 \nL 30.103125 7.2 \nz\n\" style=\"fill:#ffffff;\"/>\n   </g>\n   <g id=\"matplotlib.axis_1\">\n    <g id=\"xtick_1\">\n     <g id=\"line2d_1\">\n      <path clip-path=\"url(#pb3ed3bc6e5)\" d=\"M 71.218914 143.1 \nL 71.218914 7.2 \n\" style=\"fill:none;stroke:#b0b0b0;stroke-linecap:square;stroke-width:0.8;\"/>\n     </g>\n     <g id=\"line2d_2\">\n      <defs>\n       <path d=\"M 0 0 \nL 0 3.5 \n\" id=\"mb3f8a9c9b2\" style=\"stroke:#000000;stroke-width:0.8;\"/>\n      </defs>\n      <g>\n       <use style=\"stroke:#000000;stroke-width:0.8;\" x=\"71.218914\" xlink:href=\"#mb3f8a9c9b2\" y=\"143.1\"/>\n      </g>\n     </g>\n     <g id=\"text_1\">\n      <!-- 5 -->\n      <defs>\n       <path d=\"M 10.796875 72.90625 \nL 49.515625 72.90625 \nL 49.515625 64.59375 \nL 19.828125 64.59375 \nL 19.828125 46.734375 \nQ 21.96875 47.46875 24.109375 47.828125 \nQ 26.265625 48.1875 28.421875 48.1875 \nQ 40.625 48.1875 47.75 41.5 \nQ 54.890625 34.8125 54.890625 23.390625 \nQ 54.890625 11.625 47.5625 5.09375 \nQ 40.234375 -1.421875 26.90625 -1.421875 \nQ 22.3125 -1.421875 17.546875 -0.640625 \nQ 12.796875 0.140625 7.71875 1.703125 \nL 7.71875 11.625 \nQ 12.109375 9.234375 16.796875 8.0625 \nQ 21.484375 6.890625 26.703125 6.890625 \nQ 35.15625 6.890625 40.078125 11.328125 \nQ 45.015625 15.765625 45.015625 23.390625 \nQ 45.015625 31 40.078125 35.4375 \nQ 35.15625 39.890625 26.703125 39.890625 \nQ 22.75 39.890625 18.8125 39.015625 \nQ 14.890625 38.140625 10.796875 36.28125 \nz\n\" id=\"DejaVuSans-53\"/>\n      </defs>\n      <g transform=\"translate(68.037664 157.698438)scale(0.1 -0.1)\">\n       <use xlink:href=\"#DejaVuSans-53\"/>\n      </g>\n     </g>\n    </g>\n    <g id=\"xtick_2\">\n     <g id=\"line2d_3\">\n      <path clip-path=\"url(#pb3ed3bc6e5)\" d=\"M 122.613651 143.1 \nL 122.613651 7.2 \n\" style=\"fill:none;stroke:#b0b0b0;stroke-linecap:square;stroke-width:0.8;\"/>\n     </g>\n     <g id=\"line2d_4\">\n      <g>\n       <use style=\"stroke:#000000;stroke-width:0.8;\" x=\"122.613651\" xlink:href=\"#mb3f8a9c9b2\" y=\"143.1\"/>\n      </g>\n     </g>\n     <g id=\"text_2\">\n      <!-- 10 -->\n      <defs>\n       <path d=\"M 12.40625 8.296875 \nL 28.515625 8.296875 \nL 28.515625 63.921875 \nL 10.984375 60.40625 \nL 10.984375 69.390625 \nL 28.421875 72.90625 \nL 38.28125 72.90625 \nL 38.28125 8.296875 \nL 54.390625 8.296875 \nL 54.390625 0 \nL 12.40625 0 \nz\n\" id=\"DejaVuSans-49\"/>\n       <path d=\"M 31.78125 66.40625 \nQ 24.171875 66.40625 20.328125 58.90625 \nQ 16.5 51.421875 16.5 36.375 \nQ 16.5 21.390625 20.328125 13.890625 \nQ 24.171875 6.390625 31.78125 6.390625 \nQ 39.453125 6.390625 43.28125 13.890625 \nQ 47.125 21.390625 47.125 36.375 \nQ 47.125 51.421875 43.28125 58.90625 \nQ 39.453125 66.40625 31.78125 66.40625 \nz\nM 31.78125 74.21875 \nQ 44.046875 74.21875 50.515625 64.515625 \nQ 56.984375 54.828125 56.984375 36.375 \nQ 56.984375 17.96875 50.515625 8.265625 \nQ 44.046875 -1.421875 31.78125 -1.421875 \nQ 19.53125 -1.421875 13.0625 8.265625 \nQ 6.59375 17.96875 6.59375 36.375 \nQ 6.59375 54.828125 13.0625 64.515625 \nQ 19.53125 74.21875 31.78125 74.21875 \nz\n\" id=\"DejaVuSans-48\"/>\n      </defs>\n      <g transform=\"translate(116.251151 157.698438)scale(0.1 -0.1)\">\n       <use xlink:href=\"#DejaVuSans-49\"/>\n       <use x=\"63.623047\" xlink:href=\"#DejaVuSans-48\"/>\n      </g>\n     </g>\n    </g>\n    <g id=\"xtick_3\">\n     <g id=\"line2d_5\">\n      <path clip-path=\"url(#pb3ed3bc6e5)\" d=\"M 174.008388 143.1 \nL 174.008388 7.2 \n\" style=\"fill:none;stroke:#b0b0b0;stroke-linecap:square;stroke-width:0.8;\"/>\n     </g>\n     <g id=\"line2d_6\">\n      <g>\n       <use style=\"stroke:#000000;stroke-width:0.8;\" x=\"174.008388\" xlink:href=\"#mb3f8a9c9b2\" y=\"143.1\"/>\n      </g>\n     </g>\n     <g id=\"text_3\">\n      <!-- 15 -->\n      <g transform=\"translate(167.645888 157.698438)scale(0.1 -0.1)\">\n       <use xlink:href=\"#DejaVuSans-49\"/>\n       <use x=\"63.623047\" xlink:href=\"#DejaVuSans-53\"/>\n      </g>\n     </g>\n    </g>\n    <g id=\"xtick_4\">\n     <g id=\"line2d_7\">\n      <path clip-path=\"url(#pb3ed3bc6e5)\" d=\"M 225.403125 143.1 \nL 225.403125 7.2 \n\" style=\"fill:none;stroke:#b0b0b0;stroke-linecap:square;stroke-width:0.8;\"/>\n     </g>\n     <g id=\"line2d_8\">\n      <g>\n       <use style=\"stroke:#000000;stroke-width:0.8;\" x=\"225.403125\" xlink:href=\"#mb3f8a9c9b2\" y=\"143.1\"/>\n      </g>\n     </g>\n     <g id=\"text_4\">\n      <!-- 20 -->\n      <defs>\n       <path d=\"M 19.1875 8.296875 \nL 53.609375 8.296875 \nL 53.609375 0 \nL 7.328125 0 \nL 7.328125 8.296875 \nQ 12.9375 14.109375 22.625 23.890625 \nQ 32.328125 33.6875 34.8125 36.53125 \nQ 39.546875 41.84375 41.421875 45.53125 \nQ 43.3125 49.21875 43.3125 52.78125 \nQ 43.3125 58.59375 39.234375 62.25 \nQ 35.15625 65.921875 28.609375 65.921875 \nQ 23.96875 65.921875 18.8125 64.3125 \nQ 13.671875 62.703125 7.8125 59.421875 \nL 7.8125 69.390625 \nQ 13.765625 71.78125 18.9375 73 \nQ 24.125 74.21875 28.421875 74.21875 \nQ 39.75 74.21875 46.484375 68.546875 \nQ 53.21875 62.890625 53.21875 53.421875 \nQ 53.21875 48.921875 51.53125 44.890625 \nQ 49.859375 40.875 45.40625 35.40625 \nQ 44.1875 33.984375 37.640625 27.21875 \nQ 31.109375 20.453125 19.1875 8.296875 \nz\n\" id=\"DejaVuSans-50\"/>\n      </defs>\n      <g transform=\"translate(219.040625 157.698438)scale(0.1 -0.1)\">\n       <use xlink:href=\"#DejaVuSans-50\"/>\n       <use x=\"63.623047\" xlink:href=\"#DejaVuSans-48\"/>\n      </g>\n     </g>\n    </g>\n    <g id=\"text_5\">\n     <!-- epoch -->\n     <defs>\n      <path d=\"M 56.203125 29.59375 \nL 56.203125 25.203125 \nL 14.890625 25.203125 \nQ 15.484375 15.921875 20.484375 11.0625 \nQ 25.484375 6.203125 34.421875 6.203125 \nQ 39.59375 6.203125 44.453125 7.46875 \nQ 49.3125 8.734375 54.109375 11.28125 \nL 54.109375 2.78125 \nQ 49.265625 0.734375 44.1875 -0.34375 \nQ 39.109375 -1.421875 33.890625 -1.421875 \nQ 20.796875 -1.421875 13.15625 6.1875 \nQ 5.515625 13.8125 5.515625 26.8125 \nQ 5.515625 40.234375 12.765625 48.109375 \nQ 20.015625 56 32.328125 56 \nQ 43.359375 56 49.78125 48.890625 \nQ 56.203125 41.796875 56.203125 29.59375 \nz\nM 47.21875 32.234375 \nQ 47.125 39.59375 43.09375 43.984375 \nQ 39.0625 48.390625 32.421875 48.390625 \nQ 24.90625 48.390625 20.390625 44.140625 \nQ 15.875 39.890625 15.1875 32.171875 \nz\n\" id=\"DejaVuSans-101\"/>\n      <path d=\"M 18.109375 8.203125 \nL 18.109375 -20.796875 \nL 9.078125 -20.796875 \nL 9.078125 54.6875 \nL 18.109375 54.6875 \nL 18.109375 46.390625 \nQ 20.953125 51.265625 25.265625 53.625 \nQ 29.59375 56 35.59375 56 \nQ 45.5625 56 51.78125 48.09375 \nQ 58.015625 40.1875 58.015625 27.296875 \nQ 58.015625 14.40625 51.78125 6.484375 \nQ 45.5625 -1.421875 35.59375 -1.421875 \nQ 29.59375 -1.421875 25.265625 0.953125 \nQ 20.953125 3.328125 18.109375 8.203125 \nz\nM 48.6875 27.296875 \nQ 48.6875 37.203125 44.609375 42.84375 \nQ 40.53125 48.484375 33.40625 48.484375 \nQ 26.265625 48.484375 22.1875 42.84375 \nQ 18.109375 37.203125 18.109375 27.296875 \nQ 18.109375 17.390625 22.1875 11.75 \nQ 26.265625 6.109375 33.40625 6.109375 \nQ 40.53125 6.109375 44.609375 11.75 \nQ 48.6875 17.390625 48.6875 27.296875 \nz\n\" id=\"DejaVuSans-112\"/>\n      <path d=\"M 30.609375 48.390625 \nQ 23.390625 48.390625 19.1875 42.75 \nQ 14.984375 37.109375 14.984375 27.296875 \nQ 14.984375 17.484375 19.15625 11.84375 \nQ 23.34375 6.203125 30.609375 6.203125 \nQ 37.796875 6.203125 41.984375 11.859375 \nQ 46.1875 17.53125 46.1875 27.296875 \nQ 46.1875 37.015625 41.984375 42.703125 \nQ 37.796875 48.390625 30.609375 48.390625 \nz\nM 30.609375 56 \nQ 42.328125 56 49.015625 48.375 \nQ 55.71875 40.765625 55.71875 27.296875 \nQ 55.71875 13.875 49.015625 6.21875 \nQ 42.328125 -1.421875 30.609375 -1.421875 \nQ 18.84375 -1.421875 12.171875 6.21875 \nQ 5.515625 13.875 5.515625 27.296875 \nQ 5.515625 40.765625 12.171875 48.375 \nQ 18.84375 56 30.609375 56 \nz\n\" id=\"DejaVuSans-111\"/>\n      <path d=\"M 48.78125 52.59375 \nL 48.78125 44.1875 \nQ 44.96875 46.296875 41.140625 47.34375 \nQ 37.3125 48.390625 33.40625 48.390625 \nQ 24.65625 48.390625 19.8125 42.84375 \nQ 14.984375 37.3125 14.984375 27.296875 \nQ 14.984375 17.28125 19.8125 11.734375 \nQ 24.65625 6.203125 33.40625 6.203125 \nQ 37.3125 6.203125 41.140625 7.25 \nQ 44.96875 8.296875 48.78125 10.40625 \nL 48.78125 2.09375 \nQ 45.015625 0.34375 40.984375 -0.53125 \nQ 36.96875 -1.421875 32.421875 -1.421875 \nQ 20.0625 -1.421875 12.78125 6.34375 \nQ 5.515625 14.109375 5.515625 27.296875 \nQ 5.515625 40.671875 12.859375 48.328125 \nQ 20.21875 56 33.015625 56 \nQ 37.15625 56 41.109375 55.140625 \nQ 45.0625 54.296875 48.78125 52.59375 \nz\n\" id=\"DejaVuSans-99\"/>\n      <path d=\"M 54.890625 33.015625 \nL 54.890625 0 \nL 45.90625 0 \nL 45.90625 32.71875 \nQ 45.90625 40.484375 42.875 44.328125 \nQ 39.84375 48.1875 33.796875 48.1875 \nQ 26.515625 48.1875 22.3125 43.546875 \nQ 18.109375 38.921875 18.109375 30.90625 \nL 18.109375 0 \nL 9.078125 0 \nL 9.078125 75.984375 \nL 18.109375 75.984375 \nL 18.109375 46.1875 \nQ 21.34375 51.125 25.703125 53.5625 \nQ 30.078125 56 35.796875 56 \nQ 45.21875 56 50.046875 50.171875 \nQ 54.890625 44.34375 54.890625 33.015625 \nz\n\" id=\"DejaVuSans-104\"/>\n     </defs>\n     <g transform=\"translate(112.525 171.376563)scale(0.1 -0.1)\">\n      <use xlink:href=\"#DejaVuSans-101\"/>\n      <use x=\"61.523438\" xlink:href=\"#DejaVuSans-112\"/>\n      <use x=\"125\" xlink:href=\"#DejaVuSans-111\"/>\n      <use x=\"186.181641\" xlink:href=\"#DejaVuSans-99\"/>\n      <use x=\"241.162109\" xlink:href=\"#DejaVuSans-104\"/>\n     </g>\n    </g>\n   </g>\n   <g id=\"matplotlib.axis_2\">\n    <g id=\"ytick_1\">\n     <g id=\"line2d_9\">\n      <path clip-path=\"url(#pb3ed3bc6e5)\" d=\"M 30.103125 142.108092 \nL 225.403125 142.108092 \n\" style=\"fill:none;stroke:#b0b0b0;stroke-linecap:square;stroke-width:0.8;\"/>\n     </g>\n     <g id=\"line2d_10\">\n      <defs>\n       <path d=\"M 0 0 \nL -3.5 0 \n\" id=\"m8374b75476\" style=\"stroke:#000000;stroke-width:0.8;\"/>\n      </defs>\n      <g>\n       <use style=\"stroke:#000000;stroke-width:0.8;\" x=\"30.103125\" xlink:href=\"#m8374b75476\" y=\"142.108092\"/>\n      </g>\n     </g>\n     <g id=\"text_6\">\n      <!-- 0.0 -->\n      <defs>\n       <path d=\"M 10.6875 12.40625 \nL 21 12.40625 \nL 21 0 \nL 10.6875 0 \nz\n\" id=\"DejaVuSans-46\"/>\n      </defs>\n      <g transform=\"translate(7.2 145.90731)scale(0.1 -0.1)\">\n       <use xlink:href=\"#DejaVuSans-48\"/>\n       <use x=\"63.623047\" xlink:href=\"#DejaVuSans-46\"/>\n       <use x=\"95.410156\" xlink:href=\"#DejaVuSans-48\"/>\n      </g>\n     </g>\n    </g>\n    <g id=\"ytick_2\">\n     <g id=\"line2d_11\">\n      <path clip-path=\"url(#pb3ed3bc6e5)\" d=\"M 30.103125 114.452815 \nL 225.403125 114.452815 \n\" style=\"fill:none;stroke:#b0b0b0;stroke-linecap:square;stroke-width:0.8;\"/>\n     </g>\n     <g id=\"line2d_12\">\n      <g>\n       <use style=\"stroke:#000000;stroke-width:0.8;\" x=\"30.103125\" xlink:href=\"#m8374b75476\" y=\"114.452815\"/>\n      </g>\n     </g>\n     <g id=\"text_7\">\n      <!-- 0.5 -->\n      <g transform=\"translate(7.2 118.252034)scale(0.1 -0.1)\">\n       <use xlink:href=\"#DejaVuSans-48\"/>\n       <use x=\"63.623047\" xlink:href=\"#DejaVuSans-46\"/>\n       <use x=\"95.410156\" xlink:href=\"#DejaVuSans-53\"/>\n      </g>\n     </g>\n    </g>\n    <g id=\"ytick_3\">\n     <g id=\"line2d_13\">\n      <path clip-path=\"url(#pb3ed3bc6e5)\" d=\"M 30.103125 86.797538 \nL 225.403125 86.797538 \n\" style=\"fill:none;stroke:#b0b0b0;stroke-linecap:square;stroke-width:0.8;\"/>\n     </g>\n     <g id=\"line2d_14\">\n      <g>\n       <use style=\"stroke:#000000;stroke-width:0.8;\" x=\"30.103125\" xlink:href=\"#m8374b75476\" y=\"86.797538\"/>\n      </g>\n     </g>\n     <g id=\"text_8\">\n      <!-- 1.0 -->\n      <g transform=\"translate(7.2 90.596757)scale(0.1 -0.1)\">\n       <use xlink:href=\"#DejaVuSans-49\"/>\n       <use x=\"63.623047\" xlink:href=\"#DejaVuSans-46\"/>\n       <use x=\"95.410156\" xlink:href=\"#DejaVuSans-48\"/>\n      </g>\n     </g>\n    </g>\n    <g id=\"ytick_4\">\n     <g id=\"line2d_15\">\n      <path clip-path=\"url(#pb3ed3bc6e5)\" d=\"M 30.103125 59.142262 \nL 225.403125 59.142262 \n\" style=\"fill:none;stroke:#b0b0b0;stroke-linecap:square;stroke-width:0.8;\"/>\n     </g>\n     <g id=\"line2d_16\">\n      <g>\n       <use style=\"stroke:#000000;stroke-width:0.8;\" x=\"30.103125\" xlink:href=\"#m8374b75476\" y=\"59.142262\"/>\n      </g>\n     </g>\n     <g id=\"text_9\">\n      <!-- 1.5 -->\n      <g transform=\"translate(7.2 62.941481)scale(0.1 -0.1)\">\n       <use xlink:href=\"#DejaVuSans-49\"/>\n       <use x=\"63.623047\" xlink:href=\"#DejaVuSans-46\"/>\n       <use x=\"95.410156\" xlink:href=\"#DejaVuSans-53\"/>\n      </g>\n     </g>\n    </g>\n    <g id=\"ytick_5\">\n     <g id=\"line2d_17\">\n      <path clip-path=\"url(#pb3ed3bc6e5)\" d=\"M 30.103125 31.486985 \nL 225.403125 31.486985 \n\" style=\"fill:none;stroke:#b0b0b0;stroke-linecap:square;stroke-width:0.8;\"/>\n     </g>\n     <g id=\"line2d_18\">\n      <g>\n       <use style=\"stroke:#000000;stroke-width:0.8;\" x=\"30.103125\" xlink:href=\"#m8374b75476\" y=\"31.486985\"/>\n      </g>\n     </g>\n     <g id=\"text_10\">\n      <!-- 2.0 -->\n      <g transform=\"translate(7.2 35.286204)scale(0.1 -0.1)\">\n       <use xlink:href=\"#DejaVuSans-50\"/>\n       <use x=\"63.623047\" xlink:href=\"#DejaVuSans-46\"/>\n       <use x=\"95.410156\" xlink:href=\"#DejaVuSans-48\"/>\n      </g>\n     </g>\n    </g>\n   </g>\n   <g id=\"line2d_19\">\n    <path clip-path=\"url(#pb3ed3bc6e5)\" d=\"M 21.659704 13.867977 \nL 23.49523 13.377273 \nL 25.330757 14.08149 \nL 27.166283 14.16811 \nL 29.001809 16.90052 \nL 30.103125 17.458846 \nL 31.938651 24.090024 \nL 33.774178 26.259716 \nL 35.609704 28.529843 \nL 37.44523 29.516814 \nL 39.280757 31.448415 \nL 40.382072 32.449455 \nL 42.217599 40.62188 \nL 44.053125 38.362919 \nL 45.888651 36.304627 \nL 47.724178 36.668631 \nL 49.559704 36.173088 \nL 50.66102 36.862833 \nL 52.496546 41.863051 \nL 54.332072 43.339627 \nL 56.167599 44.742359 \nL 58.003125 45.003684 \nL 59.838651 42.916336 \nL 60.939967 42.654507 \nL 62.775493 52.581297 \nL 64.61102 51.680459 \nL 66.446546 51.274138 \nL 68.282072 51.072535 \nL 70.117599 49.855793 \nL 71.218914 50.091553 \nL 73.054441 51.640015 \nL 74.889967 51.831143 \nL 76.725493 51.568031 \nL 78.56102 53.199743 \nL 80.396546 54.954303 \nL 81.497862 54.685714 \nL 83.333388 63.739516 \nL 85.168914 64.320955 \nL 87.004441 59.876736 \nL 88.839967 58.841038 \nL 90.675493 56.066568 \nL 91.776809 55.689802 \nL 93.612336 60.000717 \nL 95.447862 53.976912 \nL 97.283388 52.586645 \nL 99.118914 54.153372 \nL 100.954441 55.082133 \nL 102.055757 55.722873 \nL 103.891283 67.277574 \nL 105.726809 64.716542 \nL 107.562336 64.108403 \nL 109.397862 64.283539 \nL 111.233388 63.436918 \nL 112.334704 63.517847 \nL 114.17023 66.988239 \nL 116.005757 70.382042 \nL 117.841283 72.788831 \nL 119.676809 71.615539 \nL 121.512336 69.742014 \nL 122.613651 71.0007 \nL 124.449178 71.532775 \nL 126.284704 73.273084 \nL 128.12023 74.559901 \nL 129.955757 74.245122 \nL 131.791283 73.209196 \nL 132.892599 72.783863 \nL 134.728125 80.799022 \nL 136.563651 76.986443 \nL 138.399178 75.527002 \nL 140.234704 73.712974 \nL 142.07023 73.258609 \nL 143.171546 71.836922 \nL 145.007072 85.633961 \nL 146.842599 83.831252 \nL 148.678125 83.823289 \nL 150.513651 83.670202 \nL 152.349178 83.317904 \nL 153.450493 81.942751 \nL 155.28602 94.227088 \nL 157.121546 90.885734 \nL 158.957072 88.934317 \nL 160.792599 86.611581 \nL 162.628125 86.075206 \nL 163.729441 85.730527 \nL 165.564967 87.755007 \nL 167.400493 88.185518 \nL 169.23602 89.059897 \nL 171.071546 88.041582 \nL 172.907072 85.018449 \nL 174.008388 84.647691 \nL 175.843914 100.190262 \nL 177.679441 97.531138 \nL 179.514967 96.315161 \nL 181.350493 95.926893 \nL 183.18602 94.27394 \nL 184.287336 93.503374 \nL 186.122862 100.421835 \nL 187.958388 101.141825 \nL 189.793914 100.116561 \nL 191.629441 99.898843 \n\" style=\"fill:none;stroke:#1f77b4;stroke-linecap:square;stroke-width:1.5;\"/>\n   </g>\n   <g id=\"line2d_20\">\n    <path clip-path=\"url(#pb3ed3bc6e5)\" d=\"M 21.659704 136.922727 \nL 23.49523 135.367118 \nL 25.330757 135.309503 \nL 27.166283 134.243622 \nL 29.001809 133.534956 \nL 30.103125 133.033704 \nL 31.938651 130.354599 \nL 33.774178 128.971835 \nL 35.609704 127.589071 \nL 37.44523 127.84834 \nL 39.280757 127.450795 \nL 40.382072 127.107573 \nL 42.217599 124.477853 \nL 44.053125 124.996389 \nL 45.888651 126.436768 \nL 47.724178 126.206308 \nL 49.559704 125.929755 \nL 50.66102 125.626041 \nL 52.496546 123.44078 \nL 54.332072 122.058016 \nL 56.167599 121.942786 \nL 58.003125 121.798748 \nL 59.838651 122.127154 \nL 60.939967 122.292592 \nL 62.775493 119.98387 \nL 64.61102 120.156716 \nL 66.446546 121.597095 \nL 68.282072 121.366634 \nL 70.117599 121.228358 \nL 71.218914 120.996251 \nL 73.054441 121.020943 \nL 74.889967 120.502407 \nL 76.725493 121.251404 \nL 78.56102 120.848098 \nL 80.396546 120.467838 \nL 81.497862 120.132024 \nL 83.333388 115.144197 \nL 85.168914 116.699806 \nL 87.004441 116.642191 \nL 88.839967 117.650456 \nL 90.675493 118.186277 \nL 91.776809 118.52703 \nL 93.612336 116.872652 \nL 95.447862 119.638179 \nL 97.283388 119.062028 \nL 99.118914 119.292488 \nL 100.954441 119.015936 \nL 102.055757 118.897413 \nL 103.891283 115.489888 \nL 105.726809 116.18127 \nL 107.562336 115.028967 \nL 109.397862 116.094847 \nL 111.233388 115.697302 \nL 112.334704 115.872617 \nL 114.17023 114.798506 \nL 116.005757 114.625661 \nL 117.841283 113.185282 \nL 119.676809 113.329319 \nL 121.512336 113.968848 \nL 122.613651 113.773779 \nL 124.449178 114.798506 \nL 126.284704 113.934279 \nL 128.12023 112.839591 \nL 129.955757 113.070051 \nL 131.791283 113.070051 \nL 132.892599 112.971282 \nL 134.728125 109.613142 \nL 136.563651 110.82306 \nL 138.399178 111.111136 \nL 140.234704 111.600865 \nL 142.07023 111.272458 \nL 143.171546 111.921863 \nL 145.007072 107.193305 \nL 146.842599 107.36615 \nL 148.678125 107.999917 \nL 150.513651 108.576069 \nL 152.349178 108.576069 \nL 153.450493 109.20572 \nL 155.28602 105.46485 \nL 157.121546 105.119159 \nL 158.957072 106.041002 \nL 160.792599 106.501923 \nL 162.628125 106.98589 \nL 163.729441 107.168613 \nL 165.564967 107.193305 \nL 167.400493 106.501923 \nL 169.23602 105.34962 \nL 171.071546 105.810541 \nL 172.907072 107.055029 \nL 174.008388 106.79823 \nL 175.843914 102.007941 \nL 177.679441 103.045013 \nL 179.514967 103.621165 \nL 181.350493 104.254932 \nL 183.18602 104.635192 \nL 184.287336 105.069775 \nL 186.122862 100.625177 \nL 187.958388 101.316559 \nL 189.793914 102.007941 \nL 191.629441 102.094363 \n\" style=\"fill:none;stroke:#bf00bf;stroke-dasharray:5.55,2.4;stroke-dashoffset:0;stroke-width:1.5;\"/>\n   </g>\n   <g id=\"line2d_21\">\n    <path clip-path=\"url(#pb3ed3bc6e5)\" d=\"M 30.103125 129.144681 \nL 40.382072 126.551999 \nL 50.66102 133.465818 \nL 60.939967 128.280453 \nL 71.218914 128.280453 \nL 81.497862 118.773952 \nL 91.776809 129.144681 \nL 102.055757 125.687771 \nL 112.334704 123.959316 \nL 122.613651 130.873136 \nL 132.892599 122.230862 \nL 143.171546 127.416226 \nL 153.450493 128.280453 \nL 163.729441 127.416226 \nL 174.008388 123.959316 \nL 184.287336 116.18127 \n\" style=\"fill:none;stroke:#008000;stroke-dasharray:9.6,2.4,1.5,2.4;stroke-dashoffset:0;stroke-width:1.5;\"/>\n   </g>\n   <g id=\"patch_3\">\n    <path d=\"M 30.103125 143.1 \nL 30.103125 7.2 \n\" style=\"fill:none;stroke:#000000;stroke-linecap:square;stroke-linejoin:miter;stroke-width:0.8;\"/>\n   </g>\n   <g id=\"patch_4\">\n    <path d=\"M 225.403125 143.1 \nL 225.403125 7.2 \n\" style=\"fill:none;stroke:#000000;stroke-linecap:square;stroke-linejoin:miter;stroke-width:0.8;\"/>\n   </g>\n   <g id=\"patch_5\">\n    <path d=\"M 30.103125 143.1 \nL 225.403125 143.1 \n\" style=\"fill:none;stroke:#000000;stroke-linecap:square;stroke-linejoin:miter;stroke-width:0.8;\"/>\n   </g>\n   <g id=\"patch_6\">\n    <path d=\"M 30.103125 7.2 \nL 225.403125 7.2 \n\" style=\"fill:none;stroke:#000000;stroke-linecap:square;stroke-linejoin:miter;stroke-width:0.8;\"/>\n   </g>\n   <g id=\"legend_1\">\n    <g id=\"patch_7\">\n     <path d=\"M 140.634375 59.234375 \nL 218.403125 59.234375 \nQ 220.403125 59.234375 220.403125 57.234375 \nL 220.403125 14.2 \nQ 220.403125 12.2 218.403125 12.2 \nL 140.634375 12.2 \nQ 138.634375 12.2 138.634375 14.2 \nL 138.634375 57.234375 \nQ 138.634375 59.234375 140.634375 59.234375 \nz\n\" style=\"fill:#ffffff;opacity:0.8;stroke:#cccccc;stroke-linejoin:miter;\"/>\n    </g>\n    <g id=\"line2d_22\">\n     <path d=\"M 142.634375 20.298438 \nL 162.634375 20.298438 \n\" style=\"fill:none;stroke:#1f77b4;stroke-linecap:square;stroke-width:1.5;\"/>\n    </g>\n    <g id=\"line2d_23\"/>\n    <g id=\"text_11\">\n     <!-- train loss -->\n     <defs>\n      <path d=\"M 18.3125 70.21875 \nL 18.3125 54.6875 \nL 36.8125 54.6875 \nL 36.8125 47.703125 \nL 18.3125 47.703125 \nL 18.3125 18.015625 \nQ 18.3125 11.328125 20.140625 9.421875 \nQ 21.96875 7.515625 27.59375 7.515625 \nL 36.8125 7.515625 \nL 36.8125 0 \nL 27.59375 0 \nQ 17.1875 0 13.234375 3.875 \nQ 9.28125 7.765625 9.28125 18.015625 \nL 9.28125 47.703125 \nL 2.6875 47.703125 \nL 2.6875 54.6875 \nL 9.28125 54.6875 \nL 9.28125 70.21875 \nz\n\" id=\"DejaVuSans-116\"/>\n      <path d=\"M 41.109375 46.296875 \nQ 39.59375 47.171875 37.8125 47.578125 \nQ 36.03125 48 33.890625 48 \nQ 26.265625 48 22.1875 43.046875 \nQ 18.109375 38.09375 18.109375 28.8125 \nL 18.109375 0 \nL 9.078125 0 \nL 9.078125 54.6875 \nL 18.109375 54.6875 \nL 18.109375 46.1875 \nQ 20.953125 51.171875 25.484375 53.578125 \nQ 30.03125 56 36.53125 56 \nQ 37.453125 56 38.578125 55.875 \nQ 39.703125 55.765625 41.0625 55.515625 \nz\n\" id=\"DejaVuSans-114\"/>\n      <path d=\"M 34.28125 27.484375 \nQ 23.390625 27.484375 19.1875 25 \nQ 14.984375 22.515625 14.984375 16.5 \nQ 14.984375 11.71875 18.140625 8.90625 \nQ 21.296875 6.109375 26.703125 6.109375 \nQ 34.1875 6.109375 38.703125 11.40625 \nQ 43.21875 16.703125 43.21875 25.484375 \nL 43.21875 27.484375 \nz\nM 52.203125 31.203125 \nL 52.203125 0 \nL 43.21875 0 \nL 43.21875 8.296875 \nQ 40.140625 3.328125 35.546875 0.953125 \nQ 30.953125 -1.421875 24.3125 -1.421875 \nQ 15.921875 -1.421875 10.953125 3.296875 \nQ 6 8.015625 6 15.921875 \nQ 6 25.140625 12.171875 29.828125 \nQ 18.359375 34.515625 30.609375 34.515625 \nL 43.21875 34.515625 \nL 43.21875 35.40625 \nQ 43.21875 41.609375 39.140625 45 \nQ 35.0625 48.390625 27.6875 48.390625 \nQ 23 48.390625 18.546875 47.265625 \nQ 14.109375 46.140625 10.015625 43.890625 \nL 10.015625 52.203125 \nQ 14.9375 54.109375 19.578125 55.046875 \nQ 24.21875 56 28.609375 56 \nQ 40.484375 56 46.34375 49.84375 \nQ 52.203125 43.703125 52.203125 31.203125 \nz\n\" id=\"DejaVuSans-97\"/>\n      <path d=\"M 9.421875 54.6875 \nL 18.40625 54.6875 \nL 18.40625 0 \nL 9.421875 0 \nz\nM 9.421875 75.984375 \nL 18.40625 75.984375 \nL 18.40625 64.59375 \nL 9.421875 64.59375 \nz\n\" id=\"DejaVuSans-105\"/>\n      <path d=\"M 54.890625 33.015625 \nL 54.890625 0 \nL 45.90625 0 \nL 45.90625 32.71875 \nQ 45.90625 40.484375 42.875 44.328125 \nQ 39.84375 48.1875 33.796875 48.1875 \nQ 26.515625 48.1875 22.3125 43.546875 \nQ 18.109375 38.921875 18.109375 30.90625 \nL 18.109375 0 \nL 9.078125 0 \nL 9.078125 54.6875 \nL 18.109375 54.6875 \nL 18.109375 46.1875 \nQ 21.34375 51.125 25.703125 53.5625 \nQ 30.078125 56 35.796875 56 \nQ 45.21875 56 50.046875 50.171875 \nQ 54.890625 44.34375 54.890625 33.015625 \nz\n\" id=\"DejaVuSans-110\"/>\n      <path id=\"DejaVuSans-32\"/>\n      <path d=\"M 9.421875 75.984375 \nL 18.40625 75.984375 \nL 18.40625 0 \nL 9.421875 0 \nz\n\" id=\"DejaVuSans-108\"/>\n      <path d=\"M 44.28125 53.078125 \nL 44.28125 44.578125 \nQ 40.484375 46.53125 36.375 47.5 \nQ 32.28125 48.484375 27.875 48.484375 \nQ 21.1875 48.484375 17.84375 46.4375 \nQ 14.5 44.390625 14.5 40.28125 \nQ 14.5 37.15625 16.890625 35.375 \nQ 19.28125 33.59375 26.515625 31.984375 \nL 29.59375 31.296875 \nQ 39.15625 29.25 43.1875 25.515625 \nQ 47.21875 21.78125 47.21875 15.09375 \nQ 47.21875 7.46875 41.1875 3.015625 \nQ 35.15625 -1.421875 24.609375 -1.421875 \nQ 20.21875 -1.421875 15.453125 -0.5625 \nQ 10.6875 0.296875 5.421875 2 \nL 5.421875 11.28125 \nQ 10.40625 8.6875 15.234375 7.390625 \nQ 20.0625 6.109375 24.8125 6.109375 \nQ 31.15625 6.109375 34.5625 8.28125 \nQ 37.984375 10.453125 37.984375 14.40625 \nQ 37.984375 18.0625 35.515625 20.015625 \nQ 33.0625 21.96875 24.703125 23.78125 \nL 21.578125 24.515625 \nQ 13.234375 26.265625 9.515625 29.90625 \nQ 5.8125 33.546875 5.8125 39.890625 \nQ 5.8125 47.609375 11.28125 51.796875 \nQ 16.75 56 26.8125 56 \nQ 31.78125 56 36.171875 55.265625 \nQ 40.578125 54.546875 44.28125 53.078125 \nz\n\" id=\"DejaVuSans-115\"/>\n     </defs>\n     <g transform=\"translate(170.634375 23.798438)scale(0.1 -0.1)\">\n      <use xlink:href=\"#DejaVuSans-116\"/>\n      <use x=\"39.208984\" xlink:href=\"#DejaVuSans-114\"/>\n      <use x=\"80.322266\" xlink:href=\"#DejaVuSans-97\"/>\n      <use x=\"141.601562\" xlink:href=\"#DejaVuSans-105\"/>\n      <use x=\"169.384766\" xlink:href=\"#DejaVuSans-110\"/>\n      <use x=\"232.763672\" xlink:href=\"#DejaVuSans-32\"/>\n      <use x=\"264.550781\" xlink:href=\"#DejaVuSans-108\"/>\n      <use x=\"292.333984\" xlink:href=\"#DejaVuSans-111\"/>\n      <use x=\"353.515625\" xlink:href=\"#DejaVuSans-115\"/>\n      <use x=\"405.615234\" xlink:href=\"#DejaVuSans-115\"/>\n     </g>\n    </g>\n    <g id=\"line2d_24\">\n     <path d=\"M 142.634375 34.976562 \nL 162.634375 34.976562 \n\" style=\"fill:none;stroke:#bf00bf;stroke-dasharray:5.55,2.4;stroke-dashoffset:0;stroke-width:1.5;\"/>\n    </g>\n    <g id=\"line2d_25\"/>\n    <g id=\"text_12\">\n     <!-- train acc -->\n     <g transform=\"translate(170.634375 38.476562)scale(0.1 -0.1)\">\n      <use xlink:href=\"#DejaVuSans-116\"/>\n      <use x=\"39.208984\" xlink:href=\"#DejaVuSans-114\"/>\n      <use x=\"80.322266\" xlink:href=\"#DejaVuSans-97\"/>\n      <use x=\"141.601562\" xlink:href=\"#DejaVuSans-105\"/>\n      <use x=\"169.384766\" xlink:href=\"#DejaVuSans-110\"/>\n      <use x=\"232.763672\" xlink:href=\"#DejaVuSans-32\"/>\n      <use x=\"264.550781\" xlink:href=\"#DejaVuSans-97\"/>\n      <use x=\"325.830078\" xlink:href=\"#DejaVuSans-99\"/>\n      <use x=\"380.810547\" xlink:href=\"#DejaVuSans-99\"/>\n     </g>\n    </g>\n    <g id=\"line2d_26\">\n     <path d=\"M 142.634375 49.654688 \nL 162.634375 49.654688 \n\" style=\"fill:none;stroke:#008000;stroke-dasharray:9.6,2.4,1.5,2.4;stroke-dashoffset:0;stroke-width:1.5;\"/>\n    </g>\n    <g id=\"line2d_27\"/>\n    <g id=\"text_13\">\n     <!-- valid acc -->\n     <defs>\n      <path d=\"M 2.984375 54.6875 \nL 12.5 54.6875 \nL 29.59375 8.796875 \nL 46.6875 54.6875 \nL 56.203125 54.6875 \nL 35.6875 0 \nL 23.484375 0 \nz\n\" id=\"DejaVuSans-118\"/>\n      <path d=\"M 45.40625 46.390625 \nL 45.40625 75.984375 \nL 54.390625 75.984375 \nL 54.390625 0 \nL 45.40625 0 \nL 45.40625 8.203125 \nQ 42.578125 3.328125 38.25 0.953125 \nQ 33.9375 -1.421875 27.875 -1.421875 \nQ 17.96875 -1.421875 11.734375 6.484375 \nQ 5.515625 14.40625 5.515625 27.296875 \nQ 5.515625 40.1875 11.734375 48.09375 \nQ 17.96875 56 27.875 56 \nQ 33.9375 56 38.25 53.625 \nQ 42.578125 51.265625 45.40625 46.390625 \nz\nM 14.796875 27.296875 \nQ 14.796875 17.390625 18.875 11.75 \nQ 22.953125 6.109375 30.078125 6.109375 \nQ 37.203125 6.109375 41.296875 11.75 \nQ 45.40625 17.390625 45.40625 27.296875 \nQ 45.40625 37.203125 41.296875 42.84375 \nQ 37.203125 48.484375 30.078125 48.484375 \nQ 22.953125 48.484375 18.875 42.84375 \nQ 14.796875 37.203125 14.796875 27.296875 \nz\n\" id=\"DejaVuSans-100\"/>\n     </defs>\n     <g transform=\"translate(170.634375 53.154688)scale(0.1 -0.1)\">\n      <use xlink:href=\"#DejaVuSans-118\"/>\n      <use x=\"59.179688\" xlink:href=\"#DejaVuSans-97\"/>\n      <use x=\"120.458984\" xlink:href=\"#DejaVuSans-108\"/>\n      <use x=\"148.242188\" xlink:href=\"#DejaVuSans-105\"/>\n      <use x=\"176.025391\" xlink:href=\"#DejaVuSans-100\"/>\n      <use x=\"239.501953\" xlink:href=\"#DejaVuSans-32\"/>\n      <use x=\"271.289062\" xlink:href=\"#DejaVuSans-97\"/>\n      <use x=\"332.568359\" xlink:href=\"#DejaVuSans-99\"/>\n      <use x=\"387.548828\" xlink:href=\"#DejaVuSans-99\"/>\n     </g>\n    </g>\n   </g>\n  </g>\n </g>\n <defs>\n  <clipPath id=\"pb3ed3bc6e5\">\n   <rect height=\"135.9\" width=\"195.3\" x=\"30.103125\" y=\"7.2\"/>\n  </clipPath>\n </defs>\n</svg>\n"
          },
          "metadata": {}
        }
      ],
      "source": [
        "devices, num_epochs, lr, wd = d2l.try_all_gpus(), 20, 2e-4, 5e-4\n",
        "lr_period, lr_decay, net = 4, 0.9, get_net()\n",
        "train(net, train_iter, valid_iter, num_epochs, lr, wd, devices, lr_period,\n",
        "      lr_decay)"
      ]
    },
    {
      "cell_type": "markdown",
      "id": "08255b2d",
      "metadata": {
        "origin_pos": 51,
        "id": "08255b2d"
      },
      "source": [
        "## 在 Kaggle 上[**对测试集进行分类并提交结果**]\n",
        "\n",
        "在获得具有超参数的满意的模型后，我们使用所有标记的数据（包括验证集）来重新训练模型并对测试集进行分类。\n"
      ]
    },
    {
      "cell_type": "code",
      "execution_count": null,
      "id": "50ae26b9",
      "metadata": {
        "execution": {
          "iopub.execute_input": "2022-12-07T16:29:22.030416Z",
          "iopub.status.busy": "2022-12-07T16:29:22.030145Z",
          "iopub.status.idle": "2022-12-07T16:30:09.012586Z",
          "shell.execute_reply": "2022-12-07T16:30:09.011795Z"
        },
        "origin_pos": 53,
        "tab": [
          "pytorch"
        ],
        "id": "50ae26b9"
      },
      "outputs": [],
      "source": [
        "net, preds = get_net(), []\n",
        "train(net, train_valid_iter, None, num_epochs, lr, wd, devices, lr_period,\n",
        "      lr_decay)\n",
        "\n",
        "for X, _ in test_iter:\n",
        "    y_hat = net(X.to(devices[0]))\n",
        "    preds.extend(y_hat.argmax(dim=1).type(torch.int32).cpu().numpy())\n",
        "sorted_ids = list(range(1, len(test_ds) + 1))\n",
        "sorted_ids.sort(key=lambda x: str(x))\n",
        "df = pd.DataFrame({'id': sorted_ids, 'label': preds})\n",
        "df['label'] = df['label'].apply(lambda x: train_valid_ds.classes[x])\n",
        "df.to_csv('submission.csv', index=False)"
      ]
    },
    {
      "cell_type": "markdown",
      "id": "ca9aa8ed",
      "metadata": {
        "origin_pos": 55,
        "id": "ca9aa8ed"
      },
      "source": [
        "向Kaggle提交结果的方法与 :numref:`sec_kaggle_house`中的方法类似，上面的代码将生成一个\n",
        "`submission.csv`文件，其格式符合Kaggle竞赛的要求。\n",
        "\n",
        "## 小结\n",
        "\n",
        "* 将包含原始图像文件的数据集组织为所需格式后，我们可以读取它们。\n"
      ]
    },
    {
      "cell_type": "markdown",
      "id": "c643aeee",
      "metadata": {
        "origin_pos": 57,
        "tab": [
          "pytorch"
        ],
        "id": "c643aeee"
      },
      "source": [
        "* 我们可以在图像分类竞赛中使用卷积神经网络和图像增广。\n"
      ]
    },
    {
      "cell_type": "markdown",
      "id": "fb5c2fb5",
      "metadata": {
        "origin_pos": 59,
        "id": "fb5c2fb5"
      },
      "source": [
        "## 练习\n",
        "\n",
        "1. 在这场Kaggle竞赛中使用完整的CIFAR-10数据集。将超参数设为`batch_size = 128`，`num_epochs = 100`，`lr = 0.1`，`lr_period = 50`，`lr_decay = 0.1`。看看在这场比赛中能达到什么准确度和排名。能进一步改进吗？\n",
        "1. 不使用图像增广时，能获得怎样的准确度？\n"
      ]
    },
    {
      "cell_type": "markdown",
      "id": "289a2bed",
      "metadata": {
        "origin_pos": 61,
        "tab": [
          "pytorch"
        ],
        "id": "289a2bed"
      },
      "source": [
        "[Discussions](https://discuss.d2l.ai/t/2831)\n"
      ]
    }
  ],
  "metadata": {
    "accelerator": "GPU",
    "kernelspec": {
      "display_name": "Python 3",
      "name": "python3"
    },
    "language_info": {
      "name": "python"
    },
    "colab": {
      "provenance": [],
      "include_colab_link": true
    },
    "gpuClass": "standard"
  },
  "nbformat": 4,
  "nbformat_minor": 5
}